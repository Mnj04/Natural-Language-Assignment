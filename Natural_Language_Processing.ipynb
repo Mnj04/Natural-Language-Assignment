{
 "cells": [
  {
   "cell_type": "markdown",
   "metadata": {
    "id": "eQmKXszr21Mf"
   },
   "source": [
    "# Task 2. Experimental Evaluation of NLP Pipelines"
   ]
  },
  {
   "cell_type": "markdown",
   "metadata": {
    "id": "5Loz16El2v2y"
   },
   "source": [
    "https://www.kaggle.com/datasets/naseralqaydeh/named-entity-recognition-ner-corpus"
   ]
  },
  {
   "cell_type": "code",
   "execution_count": null,
   "metadata": {
    "colab": {
     "base_uri": "https://localhost:8080/",
     "height": 363
    },
    "id": "Lfl8PGDn1eho",
    "outputId": "03909fda-71f1-471e-972d-995a37944ff5"
   },
   "outputs": [],
   "source": [
    "# Download spaCy English model\n",
    "!python -m spacy download en_core_web_sm\n",
    "\n",
    "# Import libraries\n",
    "import spacy\n",
    "import pandas as pd\n",
    "from sklearn.metrics import classification_report\n",
    "\n",
    "# Load dataset\n",
    "df = pd.read_csv(\"ner.csv\")\n",
    "df.head()"
   ]
  },
  {
   "cell_type": "markdown",
   "metadata": {
    "id": "Avo83odx3DtH"
   },
   "source": [
    "### Classical NLP using tokenization, stemming, POS tagging (Spacy)"
   ]
  },
  {
   "cell_type": "code",
   "execution_count": null,
   "metadata": {
    "colab": {
     "base_uri": "https://localhost:8080/"
    },
    "id": "8FewAJA82YJe",
    "outputId": "70cf9edf-cb81-47ac-95c0-89ba8e965f07"
   },
   "outputs": [],
   "source": [
    "import spacy\n",
    "from nltk.stem import PorterStemmer\n",
    "from sklearn.metrics import classification_report\n",
    "\n",
    "# Initialize spaCy and stemmer\n",
    "nlp = spacy.load(\"en_core_web_sm\")\n",
    "stemmer = PorterStemmer()\n",
    "\n",
    "true_labels = []\n",
    "pred_labels_classical = []\n",
    "\n",
    "for i, row in df.iterrows():\n",
    "    sentence = row['Sentence']\n",
    "    tokens = eval(row['POS'])\n",
    "    tags = eval(row['Tag'])\n",
    "\n",
    "    true_labels.extend(tags)\n",
    "\n",
    "    # Initialize predictions as 'O'\n",
    "    pred = ['O'] * len(tokens)\n",
    "\n",
    "    # Process sentence\n",
    "    doc = nlp(sentence)\n",
    "\n",
    "    # Classical NLP steps: tokenization, POS tagging, stemming\n",
    "    for idx, token in enumerate(doc):\n",
    "        stem = stemmer.stem(token.text)\n",
    "        pos = token.pos_\n",
    "\n",
    "\n",
    "    # Map spaCy detected entities\n",
    "    for ent in doc.ents:\n",
    "        # Find index of first matching token in dataset tokens\n",
    "        for idx, tok in enumerate(tokens):\n",
    "            if ent.text.startswith(tok):\n",
    "                pred[idx] = 'B-' + ent.label_\n",
    "                # If entity spans multiple tokens, mark as I-\n",
    "                ent_words = ent.text.split()\n",
    "                for j in range(1, len(ent_words)):\n",
    "                    if idx+j < len(pred):\n",
    "                        pred[idx+j] = 'I-' + ent.label_\n",
    "                break\n",
    "\n",
    "    pred_labels_classical.extend(pred)\n",
    "\n",
    "# Evaluate\n",
    "print(\"Classical NLP Performance:\")\n",
    "print(classification_report(true_labels, pred_labels_classical, zero_division=0))\n"
   ]
  },
  {
   "cell_type": "markdown",
   "metadata": {
    "id": "3hwSSM7l3LuK"
   },
   "source": [
    "### Transformer-based pipeline using a pre-trained model (BERT)"
   ]
  },
  {
   "cell_type": "code",
   "execution_count": null,
   "metadata": {
    "colab": {
     "base_uri": "https://localhost:8080/"
    },
    "id": "eMgRyYj6qCP7",
    "outputId": "ad32c94b-916f-47e4-b6f1-f55ed8cd3188"
   },
   "outputs": [],
   "source": [
    "from transformers import AutoTokenizer, AutoModelForTokenClassification, pipeline\n",
    "from sklearn.metrics import classification_report\n",
    "import pandas as pd\n",
    "\n",
    "# Initialize BERT tokenizer and model\n",
    "tokenizer = AutoTokenizer.from_pretrained(\"dbmdz/bert-large-cased-finetuned-conll03-english\")\n",
    "model = AutoModelForTokenClassification.from_pretrained(\"dbmdz/bert-large-cased-finetuned-conll03-english\")\n",
    "\n",
    "# NER pipeline\n",
    "ner_pipe = pipeline(\"ner\", model=model, tokenizer=tokenizer, aggregation_strategy=\"simple\")\n",
    "\n",
    "pred_labels_bert = []\n",
    "true_labels = []\n",
    "\n",
    "for i, row in df.iterrows():\n",
    "    sentence = row['Sentence']\n",
    "    tokens = eval(row['POS'])\n",
    "    tags = eval(row['Tag'])\n",
    "\n",
    "    true_labels.extend(tags)\n",
    "\n",
    "    # Predict with BERT\n",
    "    ner_results = ner_pipe(sentence)\n",
    "\n",
    "    # Initialize prediction list as 'O'\n",
    "    pred = ['O'] * len(tokens)\n",
    "\n",
    "    # Map BERT entity spans to dataset tokens\n",
    "    for ent in ner_results:\n",
    "        char_idx = 0\n",
    "        start_token_idx = None\n",
    "        end_token_idx = None\n",
    "        for idx, tok in enumerate(tokens):\n",
    "            token_len = len(tok)\n",
    "            if char_idx <= ent['start'] < char_idx + token_len:\n",
    "                start_token_idx = idx\n",
    "            if char_idx < ent['end'] <= char_idx + token_len:\n",
    "                end_token_idx = idx\n",
    "            char_idx += token_len + 1  # +1 for space\n",
    "\n",
    "        if start_token_idx is not None and end_token_idx is not None:\n",
    "            pred[start_token_idx] = 'B-' + ent['entity_group']\n",
    "            for j in range(start_token_idx+1, end_token_idx+1):\n",
    "                pred[j] = 'I-' + ent['entity_group']\n",
    "\n",
    "    pred_labels_bert.extend(pred)\n",
    "\n",
    "# Evaluate\n",
    "print(\"Transformer-based BERT Performance:\")\n",
    "print(classification_report(true_labels, pred_labels_bert, zero_division=0))"
   ]
  },
  {
   "cell_type": "markdown",
   "metadata": {
    "id": "WOOXrDFFmgCr"
   },
   "source": [
    "# -------------- Task 5: Independent Mini Project: Real-World Application Challenge-----------------"
   ]
  },
  {
   "cell_type": "markdown",
   "metadata": {
    "id": "MZfDV6TucZsU"
   },
   "source": [
    "https://www.kaggle.com/datasets/anjaneyatripathi/emotion-classification-nlp?select=emotion-labels-train.csv"
   ]
  },
  {
   "cell_type": "code",
   "execution_count": null,
   "metadata": {
    "id": "31R2qQPLf5pk"
   },
   "outputs": [],
   "source": [
    "import pandas as pd\n",
    "\n",
    "# load data\n",
    "train = pd.read_csv(\"emotion-labels-train.csv\")\n",
    "val   = pd.read_csv(\"emotion-labels-val.csv\")\n",
    "test  = pd.read_csv(\"emotion-labels-test.csv\")"
   ]
  },
  {
   "cell_type": "code",
   "execution_count": null,
   "metadata": {
    "colab": {
     "base_uri": "https://localhost:8080/"
    },
    "id": "x9dKkJX3N1yU",
    "outputId": "51637f37-1fe2-4ac7-8aa8-9926dd9c1d31"
   },
   "outputs": [],
   "source": [
    "# check null values\n",
    "print(\"Train set nulls:\\n\", train.isnull().sum())\n",
    "print(\"\\nValidation set nulls:\\n\", val.isnull().sum())\n",
    "print(\"\\nTest set nulls:\\n\", test.isnull().sum())"
   ]
  },
  {
   "cell_type": "markdown",
   "metadata": {
    "id": "DIb9i_1ompaV"
   },
   "source": [
    "### Design and implement Classical NLP using tokenization, stemming, POS tagging (Spacy)"
   ]
  },
  {
   "cell_type": "code",
   "execution_count": null,
   "metadata": {
    "colab": {
     "base_uri": "https://localhost:8080/",
     "height": 81
    },
    "id": "op9A9TGETGY1",
    "outputId": "a6227d84-3deb-4fbf-ad0e-005faf0c9bb0"
   },
   "outputs": [],
   "source": [
    "import pandas as pd\n",
    "from sklearn.feature_extraction.text import TfidfVectorizer\n",
    "from sklearn.linear_model import LogisticRegression\n",
    "from sklearn.metrics import classification_report, accuracy_score, confusion_matrix\n",
    "import seaborn as sns\n",
    "import matplotlib.pyplot as plt\n",
    "\n",
    "# TF-IDF Vectorization (fit on train, transform on val/test)\n",
    "vectorizer = TfidfVectorizer(max_features=5000, ngram_range=(1,2))\n",
    "X_train_vect = vectorizer.fit_transform(train[\"text\"])\n",
    "X_val_vect   = vectorizer.transform(val[\"text\"])\n",
    "X_test_vect  = vectorizer.transform(test[\"text\"])\n",
    "\n",
    "y_train = train[\"label\"]\n",
    "y_val   = val[\"label\"]\n",
    "y_test  = test[\"label\"]\n",
    "\n",
    "# Logistic Regression model\n",
    "clf = LogisticRegression(max_iter=1000, class_weight=\"balanced\")\n",
    "clf.fit(X_train_vect, y_train)\n"
   ]
  },
  {
   "cell_type": "markdown",
   "metadata": {
    "id": "NVzm__J0RP6u"
   },
   "source": [
    "### Evaluate Logistic Regression of NLP Pipeline"
   ]
  },
  {
   "cell_type": "code",
   "execution_count": null,
   "metadata": {
    "colab": {
     "base_uri": "https://localhost:8080/"
    },
    "id": "MKU1qb3RO4hA",
    "outputId": "0cd9d7e6-bfb3-462d-d223-bfe70e5e3148"
   },
   "outputs": [],
   "source": [
    "# Predictions on validation and test sets\n",
    "y_val_pred  = clf.predict(X_val_vect)\n",
    "y_test_pred = clf.predict(X_test_vect)\n",
    "\n",
    "# Evaluation - Validation\n",
    "print(\"Validation Accuracy:\", accuracy_score(y_val, y_val_pred))\n",
    "print(\"\\nValidation Classification Report:\\n\", classification_report(y_val, y_val_pred))\n",
    "\n",
    "# Evaluation - Test\n",
    "print(\"Test Accuracy:\", accuracy_score(y_test, y_test_pred))\n",
    "print(\"\\nTest Classification Report:\\n\", classification_report(y_test, y_test_pred))\n"
   ]
  },
  {
   "cell_type": "code",
   "execution_count": null,
   "metadata": {
    "colab": {
     "base_uri": "https://localhost:8080/",
     "height": 564
    },
    "id": "pDA8yMD0O6f8",
    "outputId": "bf24a8ee-52fa-4383-947d-2be0adbd8596"
   },
   "outputs": [],
   "source": [
    "# Confusion Matrix - Test\n",
    "cm = confusion_matrix(y_test, y_test_pred)\n",
    "plt.figure(figsize=(8,6))\n",
    "sns.heatmap(cm, annot=True, fmt=\"d\", cmap=\"Blues\", xticklabels=clf.classes_, yticklabels=clf.classes_)\n",
    "plt.xlabel(\"Predicted\")\n",
    "plt.ylabel(\"Actual\")\n",
    "plt.title(\"Confusion Matrix - Test Set\")\n",
    "plt.show()"
   ]
  },
  {
   "cell_type": "code",
   "execution_count": null,
   "metadata": {
    "colab": {
     "base_uri": "https://localhost:8080/",
     "height": 410
    },
    "id": "tZMjMzSTQPBY",
    "outputId": "5bff4b6f-3e79-4086-be76-133dd8ba6beb"
   },
   "outputs": [],
   "source": [
    "import pandas as pd\n",
    "import seaborn as sns\n",
    "import matplotlib.pyplot as plt\n",
    "from sklearn.metrics import classification_report, accuracy_score\n",
    "\n",
    "# Overall accuracy\n",
    "accuracy = accuracy_score(y_test, y_test_pred)\n",
    "\n",
    "# Generate classification report as dict\n",
    "report_dict = classification_report(y_test, y_test_pred, output_dict=True)\n",
    "\n",
    "# Convert to DataFrame\n",
    "report_df = pd.DataFrame(report_dict).transpose()\n",
    "\n",
    "# Keep only precision, recall, f1-score (exclude support)\n",
    "metrics_df = report_df[['precision', 'recall', 'f1-score']].iloc[:-3]  # classes only\n",
    "\n",
    "# Add accuracy column (same for all classes)\n",
    "metrics_df['accuracy'] = accuracy\n",
    "\n",
    "# Reorder columns if desired\n",
    "metrics_df = metrics_df[['accuracy', 'precision', 'recall', 'f1-score']]\n",
    "\n",
    "# Plot heatmap\n",
    "plt.figure(figsize=(10, len(metrics_df)*0.5 + 2))  # adjust height by number of classes\n",
    "sns.heatmap(metrics_df.astype(float), annot=True, cmap=\"YlGnBu\", fmt=\".2f\", cbar_kws={'label': 'Score'})\n",
    "plt.title(\"Classification Metrics per Class - Test Set\")\n",
    "plt.ylabel(\"Class\")\n",
    "plt.xlabel(\"Metrics\")\n",
    "plt.show()\n"
   ]
  },
  {
   "cell_type": "markdown",
   "metadata": {
    "id": "QksfcVbuvh5j"
   },
   "source": [
    "### Design and implementTransformer-based pipeline using a pre-trained model DistilBERT"
   ]
  },
  {
   "cell_type": "code",
   "execution_count": null,
   "metadata": {
    "colab": {
     "base_uri": "https://localhost:8080/",
     "height": 544,
     "referenced_widgets": [
      "808a28a9791743a89c3b0651e722bd1e",
      "06b2f97bd88e46a889b547f6bcc73c9d",
      "109b76aa28fd48f881ae63f980b4fac4",
      "cdc148c0fea244f7af8ff820e09c9902",
      "28a4bc31c93c47be81a17831aa4182a4",
      "a5f052c7fcee4468a8200ffa9b35556b",
      "eaba4b9ff077407098714044add90b47",
      "6b7b64cc9b964621b7b5b9135ec5c535",
      "5ff0382dc31043d98e404befd178bf1d",
      "fc778e21ca6f4ca3b12a0f6348307ac6",
      "d0b3190f9f3d43deb18b2f2b2277db45",
      "bdf620a4d48c4553a7f8b5993abbf8cd",
      "a371e457fb134e508ae31e614e787baa",
      "14e7fd4f6fb64d03bc7fceded14f033c",
      "fdefcf009ff14f7eb142d82ae45d0ba9",
      "16d11b32735e4412a4eca71d9ae6f42f",
      "3c3f1be393434c8c8621899be3199d6d",
      "eee0d3bd8576437092ae53ad48ab40e6",
      "55dfef3eed934037a6b58f0bdbb0a754",
      "ddc099f06b054a0eb55daec55c60a5a8",
      "aea92ea523524b54b68c0a66108d6130",
      "b5f6359925bc465e83083461371d0959",
      "1bd9a29513de45d3b3eb253e9ac4ce93",
      "9caf8f41099a44b18ad8bb95bde62cdf",
      "f4bba914b06c470baf6f1941fed716ed",
      "01ae13b0148d43acbbdc72012f48653b",
      "fdbe500f0cd04ce2baab3f729ca37854",
      "50f37bbd5b05488b9cdf4e6ce4996a8e",
      "09aa6e350e2e4ae1b5ff69a769bd3697",
      "71b0735cda0f4c6fa496490f83d8037d",
      "14139c824f42496ca25420d1de6ae0a2",
      "4c5b8e8ee0f6488abbcc342ad3c0f458",
      "d384992f1fbc40e5af90e5a0f1f59016",
      "74d5cef3e54f421b8cba7310a1770a50",
      "1dcbac8f96ba4fb7b2e1eb09a3233585",
      "8917caaea59b4339a325afc79e228890",
      "a796d74f40ed441eadc8ac76e2980eba",
      "6ce7c2d411614aa897cf24055519494a",
      "e92516778e154ba8a2ab269b0756f8df",
      "21cf94fbd68c49e08ceb71751dd8c37a",
      "aaeab976617d4534aa7e31a13ceb62ba",
      "fcd6eb0b0ef04fb0a16e6fda71f0b448",
      "ef593b7c7bc44bc3976921acc509971d",
      "51b8fdf463af46bb85c96e478d005318",
      "30a6b0975b4d4e589cea7c04f1038fee",
      "e79348a2b5034a49aef1067551ce81b0",
      "27063b6f9d5c4a0199965e50c5b7bbfb",
      "454a2cb0f4034a43a0c235d735aadb3b",
      "aa28dbb4210f446293bc0d0aa4057426",
      "ac942463ff1d4a558bbd72e2f22cf1f9",
      "eaed2217550b49808b3825ea8962c30e",
      "e08e5856573649708318a25f82593847",
      "729bd448537545ba989920cb4c3e3d14",
      "54c351fd93d34634818e8d8239dead46",
      "130107bd62d449269cc80d38ac8a4f2e"
     ]
    },
    "id": "H4Le90Uzfox8",
    "outputId": "60121f51-d25f-4612-eaf8-98197f81e6ac"
   },
   "outputs": [],
   "source": [
    "import pandas as pd\n",
    "from transformers import DistilBertTokenizerFast, TFDistilBertForSequenceClassification\n",
    "from sklearn.preprocessing import LabelEncoder\n",
    "import tensorflow as tf\n",
    "\n",
    "# Encode labels\n",
    "le = LabelEncoder()\n",
    "train[\"label_enc\"] = le.fit_transform(train[\"label\"])\n",
    "val[\"label_enc\"]   = le.transform(val[\"label\"])\n",
    "test[\"label_enc\"]  = le.transform(test[\"label\"])\n",
    "\n",
    "# Tokenizer\n",
    "tokenizer = DistilBertTokenizerFast.from_pretrained(\"distilbert-base-uncased\")\n",
    "\n",
    "# Tokenize datasets\n",
    "def tokenize(batch):\n",
    "    return tokenizer(batch[\"text\"].tolist(), truncation=True, padding=True)\n",
    "\n",
    "X_train = tokenize(train)\n",
    "X_val   = tokenize(val)\n",
    "X_test  = tokenize(test)\n",
    "\n",
    "# Convert to tf.data.Dataset\n",
    "def make_dataset(encodings, labels, batch_size=16, shuffle=False):\n",
    "    dataset = tf.data.Dataset.from_tensor_slices((dict(encodings), labels))\n",
    "    if shuffle:\n",
    "        dataset = dataset.shuffle(10000)\n",
    "    dataset = dataset.batch(batch_size).prefetch(tf.data.AUTOTUNE)\n",
    "    return dataset\n",
    "\n",
    "train_dataset = make_dataset(X_train, train[\"label_enc\"].values, batch_size=16, shuffle=True)\n",
    "val_dataset   = make_dataset(X_val, val[\"label_enc\"].values, batch_size=16)\n",
    "test_dataset  = make_dataset(X_test, test[\"label_enc\"].values, batch_size=16)\n",
    "\n",
    "# Load DistilBERT model for sequence classification\n",
    "model = TFDistilBertForSequenceClassification.from_pretrained(\n",
    "    \"distilbert-base-uncased\",\n",
    "    num_labels=len(le.classes_),\n",
    "    from_pt=True\n",
    ")\n",
    "\n",
    "# Compile model\n",
    "model.compile(\n",
    "    optimizer=tf.keras.optimizers.Adam(learning_rate=5e-5),\n",
    "    loss=tf.keras.losses.SparseCategoricalCrossentropy(from_logits=True),\n",
    "    metrics=[\"accuracy\"]\n",
    ")\n",
    "\n",
    "# Train model\n",
    "history = model.fit(\n",
    "    train_dataset,\n",
    "    validation_data=val_dataset,\n",
    "    epochs=4\n",
    ")\n"
   ]
  },
  {
   "cell_type": "markdown",
   "metadata": {
    "id": "YX16kFZwwiP5"
   },
   "source": [
    "### Evaluate the performance"
   ]
  },
  {
   "cell_type": "code",
   "execution_count": null,
   "metadata": {
    "colab": {
     "base_uri": "https://localhost:8080/"
    },
    "id": "KtNTMWFUheQQ",
    "outputId": "8a660313-fb38-44ff-fd54-935427af39b0"
   },
   "outputs": [],
   "source": [
    "import numpy as np\n",
    "from sklearn.metrics import classification_report, accuracy_score\n",
    "\n",
    "# Build test dataset\n",
    "test_dataset = make_dataset(X_test, test[\"label_enc\"].values, batch_size=16)\n",
    "\n",
    "# Predictions\n",
    "preds = model.predict(test_dataset)\n",
    "y_pred = np.argmax(preds[\"logits\"], axis=1)\n",
    "\n",
    "# Evaluation\n",
    "print(\"Test Accuracy:\", accuracy_score(test[\"label_enc\"], y_pred))\n",
    "print(\"\\nClassification Report (Test):\\n\",\n",
    "      classification_report(test[\"label_enc\"], y_pred, target_names=le.classes_))\n"
   ]
  },
  {
   "cell_type": "code",
   "execution_count": null,
   "metadata": {
    "colab": {
     "base_uri": "https://localhost:8080/",
     "height": 565
    },
    "id": "DaV2Tk_Tzx09",
    "outputId": "aeb3281a-eb65-4191-de45-85ce71ae4669"
   },
   "outputs": [],
   "source": [
    "import pandas as pd\n",
    "import seaborn as sns\n",
    "import matplotlib.pyplot as plt\n",
    "from sklearn.metrics import classification_report, accuracy_score\n",
    "\n",
    "# Compute classification report as dict\n",
    "report_dict = classification_report(\n",
    "    test[\"label_enc\"],\n",
    "    y_pred,\n",
    "    output_dict=True,\n",
    "    target_names=le.classes_\n",
    ")\n",
    "\n",
    "# Convert to DataFrame\n",
    "report_df = pd.DataFrame(report_dict).transpose()\n",
    "\n",
    "# Keep only per-class rows\n",
    "report_df = report_df.loc[le.classes_, ['precision', 'recall', 'f1-score']]\n",
    "\n",
    "# Add overall accuracy column (same for all classes)\n",
    "overall_acc = accuracy_score(test[\"label_enc\"], y_pred)\n",
    "report_df['accuracy'] = overall_acc\n",
    "\n",
    "# Reorder columns: acc, prec, recall, f1\n",
    "report_df = report_df[['accuracy', 'precision', 'recall', 'f1-score']]\n",
    "\n",
    "# Plot heatmap\n",
    "plt.figure(figsize=(10,6))\n",
    "sns.heatmap(report_df, annot=True, cmap=\"YlOrRd\", fmt=\".2f\", cbar=True)\n",
    "\n",
    "plt.title(\"Classification Metrics per Class (DistilBERT)\", fontsize=14)\n",
    "plt.xlabel(\"Metrics\")\n",
    "plt.ylabel(\"Classes\")\n",
    "plt.show()\n"
   ]
  },
  {
   "cell_type": "code",
   "execution_count": null,
   "metadata": {
    "colab": {
     "base_uri": "https://localhost:8080/",
     "height": 564
    },
    "id": "JnEdSDUONN0y",
    "outputId": "b0de4bde-3348-4edc-d5e7-8878aaf8d5af"
   },
   "outputs": [],
   "source": [
    "import matplotlib.pyplot as plt\n",
    "import seaborn as sns\n",
    "from sklearn.metrics import confusion_matrix\n",
    "\n",
    "# Confusion Matrix - Test\n",
    "cm = confusion_matrix(test[\"label_enc\"], y_pred)\n",
    "\n",
    "plt.figure(figsize=(8,6))\n",
    "sns.heatmap(cm, annot=True, fmt=\"d\", cmap=\"Greens\",\n",
    "            xticklabels=le.classes_,  # class names\n",
    "            yticklabels=le.classes_)\n",
    "\n",
    "plt.xlabel(\"Predicted\")\n",
    "plt.ylabel(\"Actual\")\n",
    "plt.title(\"Confusion Matrix - DistilBERT (Test Set)\")\n",
    "plt.show()"
   ]
  },
  {
   "cell_type": "code",
   "execution_count": null,
   "metadata": {
    "colab": {
     "base_uri": "https://localhost:8080/",
     "height": 1000
    },
    "id": "iRWec94-wegJ",
    "outputId": "ab69b9fc-afa7-485e-dec4-a3d76edb99ff"
   },
   "outputs": [],
   "source": [
    "import matplotlib.pyplot as plt\n",
    "from sklearn.metrics import roc_curve, auc, roc_auc_score\n",
    "from sklearn.preprocessing import label_binarize\n",
    "import numpy as np\n",
    "\n",
    "# Prepare test labels\n",
    "y_test_bin = label_binarize(y_test, classes=clf.classes_)   # for Logistic Regression\n",
    "classes = clf.classes_\n",
    "\n",
    "# Logistic Regression Probabilities\n",
    "y_test_proba_logreg = clf.predict_proba(X_test_vect)\n",
    "\n",
    "# DistilBERT Probabilities (apply softmax to logits)\n",
    "from scipy.special import softmax\n",
    "y_test_proba_distil = softmax(preds[\"logits\"], axis=1)\n",
    "\n",
    "# Compute ROC curve & AUC for each model\n",
    "fpr_logreg, tpr_logreg, _ = roc_curve(y_test_bin.ravel(), y_test_proba_logreg.ravel())\n",
    "auc_logreg = auc(fpr_logreg, tpr_logreg)\n",
    "\n",
    "fpr_distil, tpr_distil, _ = roc_curve(y_test_bin.ravel(), y_test_proba_distil.ravel())\n",
    "auc_distil = auc(fpr_distil, tpr_distil)\n",
    "\n",
    "# Plot ROC curves\n",
    "plt.figure(figsize=(7,6))\n",
    "\n",
    "plt.plot(fpr_logreg, tpr_logreg, color=\"blue\", lw=2,\n",
    "         label=f\"Logistic Regression (TF-IDF)\")\n",
    "\n",
    "plt.plot(fpr_distil, tpr_distil, color=\"red\", lw=2,\n",
    "         label=f\"DistilBERT\")\n",
    "\n",
    "# Baseline\n",
    "plt.plot([0,1], [0,1], \"k--\", lw=1.5, label=\"Random Guess\")\n",
    "\n",
    "plt.xlabel(\"False Positive Rate\")\n",
    "plt.ylabel(\"True Positive Rate\")\n",
    "plt.title(\"ROC Curves per Class\")\n",
    "plt.legend(loc=\"lower right\")\n",
    "plt.grid(True)\n",
    "plt.show()\n"
   ]
  },
  {
   "cell_type": "markdown",
   "metadata": {
    "id": "FjicNSq1tuBC"
   },
   "source": [
    "# -----------Task 4: Word Representations for Semantic Reasoning ----------------"
   ]
  },
  {
   "cell_type": "markdown",
   "metadata": {
    "id": "MoR8OzGCcfxp"
   },
   "source": [
    "https://www.kaggle.com/datasets/arhamrumi/amazon-product-reviews"
   ]
  },
  {
   "cell_type": "code",
   "execution_count": null,
   "metadata": {
    "colab": {
     "base_uri": "https://localhost:8080/",
     "height": 293
    },
    "id": "YlDfduX2k9YU",
    "outputId": "1962abb8-465e-4e22-e4eb-758611d50903"
   },
   "outputs": [],
   "source": [
    "import pandas as pd\n",
    "from gensim.models import Word2Vec\n",
    "from gensim.utils import simple_preprocess\n",
    "\n",
    "# Load dataset\n",
    "df = pd.read_csv(\"Reviews.csv\")\n",
    "\n",
    "df.head()"
   ]
  },
  {
   "cell_type": "markdown",
   "metadata": {
    "id": "JYAf3g55uhel"
   },
   "source": [
    "### Train your own Word2Vec model"
   ]
  },
  {
   "cell_type": "code",
   "execution_count": null,
   "metadata": {
    "id": "8KjX7A1FonXC"
   },
   "outputs": [],
   "source": [
    "# Tokenize review texts\n",
    "sentences = df['Text'].dropna().apply(lambda x: simple_preprocess(x))\n",
    "\n",
    "# Train Word2Vec\n",
    "model = Word2Vec(sentences, vector_size=100, window=5, min_count=5, workers=4)\n",
    "model.save(\"amazon_word2vec.model\")"
   ]
  },
  {
   "cell_type": "markdown",
   "metadata": {
    "id": "jC7g_E9bulRj"
   },
   "source": [
    "### Analyze semantic similarity"
   ]
  },
  {
   "cell_type": "code",
   "execution_count": null,
   "metadata": {
    "colab": {
     "base_uri": "https://localhost:8080/"
    },
    "id": "RmYZAjPfmMfa",
    "outputId": "598da2ba-d97e-4ded-c74b-a74a617e27b6"
   },
   "outputs": [],
   "source": [
    "# Example: similarity between words\n",
    "word1, word2 = \"dog\", \"cat\"\n",
    "\n",
    "similarity = model.wv.similarity(word1, word2)\n",
    "print(f\"Cosine similarity between '{word1}' and '{word2}': {similarity:.3f}\")\n",
    "\n",
    "# Find most similar words\n",
    "print(model.wv.most_similar(\"quality\", topn=5))"
   ]
  },
  {
   "cell_type": "markdown",
   "metadata": {
    "id": "mYo77d_cupbS"
   },
   "source": [
    "### Design a mini experiment Clustering to test"
   ]
  },
  {
   "cell_type": "code",
   "execution_count": null,
   "metadata": {
    "colab": {
     "base_uri": "https://localhost:8080/"
    },
    "id": "6nV5mtZRmL_b",
    "outputId": "6f5c08ab-05e2-4940-db09-33c2a22f16e0"
   },
   "outputs": [],
   "source": [
    "from sklearn.cluster import KMeans\n",
    "import numpy as np\n",
    "\n",
    "# Select some words from vocab\n",
    "words = ['dog','cat','food','good','bad','taste','love','hate','price','quality']\n",
    "vectors = np.array([model.wv[w] for w in words])\n",
    "\n",
    "# KMeans clustering\n",
    "kmeans = KMeans(n_clusters=4, random_state=0).fit(vectors)\n",
    "for w, label in zip(words, kmeans.labels_):\n",
    "    print(f\"{w}: Cluster {label}\")\n"
   ]
  },
  {
   "cell_type": "code",
   "execution_count": null,
   "metadata": {
    "colab": {
     "base_uri": "https://localhost:8080/",
     "height": 725
    },
    "id": "oHDogVAfr4p6",
    "outputId": "8881c5d4-64c6-4be8-9de8-88b603b45bd1"
   },
   "outputs": [],
   "source": [
    "import matplotlib.pyplot as plt\n",
    "import seaborn as sns\n",
    "from sklearn.decomposition import PCA\n",
    "import pandas as pd\n",
    "\n",
    "# PCA reduce\n",
    "pca = PCA(n_components=2)\n",
    "reduced = pca.fit_transform(vectors)\n",
    "\n",
    "df_plot = pd.DataFrame({\n",
    "    \"word\": words,\n",
    "    \"x\": reduced[:,0],\n",
    "    \"y\": reduced[:,1],\n",
    "    \"cluster\": kmeans.labels_\n",
    "})\n",
    "\n",
    "# Get a palette for clusters\n",
    "palette = sns.color_palette(\"Set2\", n_colors=len(df_plot[\"cluster\"].unique()))\n",
    "\n",
    "plt.figure(figsize=(10,8))\n",
    "\n",
    "# Plot per cluster so legend works\n",
    "for cluster_id in df_plot[\"cluster\"].unique():\n",
    "    cluster_data = df_plot[df_plot[\"cluster\"] == cluster_id]\n",
    "    plt.scatter(cluster_data[\"x\"], cluster_data[\"y\"],\n",
    "                s=1800,\n",
    "                color=palette[cluster_id],\n",
    "                edgecolor=\"k\", alpha=0.8,\n",
    "                label=f\"Cluster {cluster_id}\")   # 👈 legend label\n",
    "\n",
    "    # Annotate words inside circles\n",
    "    for i, row in cluster_data.iterrows():\n",
    "        plt.text(row.x, row.y, row.word,\n",
    "                 ha=\"center\", va=\"center\", fontsize=12, weight=\"bold\")\n",
    "\n",
    "# Titles and labels\n",
    "plt.title(\"Word Embedding Clusters (KMeans)\", fontsize=16)\n",
    "plt.xlabel(\"PCA Dimension 1\", fontsize=14)\n",
    "plt.ylabel(\"PCA Dimension 2\", fontsize=14)\n",
    "\n",
    "# Show legend\n",
    "plt.legend(title=\"Clusters\", fontsize=12, title_fontsize=13)\n",
    "\n",
    "plt.show()"
   ]
  },
  {
   "cell_type": "markdown",
   "metadata": {
    "id": "ju6K4g03_a88"
   },
   "source": [
    "# Task 3. Responsible NLP Case Study"
   ]
  },
  {
   "cell_type": "markdown",
   "metadata": {
    "id": "Mw06GKLAsEei"
   },
   "source": [
    "https://www.kaggle.com/competitions/nlp-getting-started/data?select=train.csv"
   ]
  },
  {
   "cell_type": "code",
   "execution_count": null,
   "metadata": {
    "id": "sP9kpSwhpe0r"
   },
   "outputs": [],
   "source": [
    "import re\n",
    "import pandas as pd\n",
    "from sklearn.model_selection import train_test_split\n",
    "from sklearn.feature_extraction.text import TfidfVectorizer\n",
    "from sklearn.linear_model import LogisticRegression\n",
    "from sklearn.metrics import classification_report, confusion_matrix, accuracy_score"
   ]
  },
  {
   "cell_type": "code",
   "execution_count": null,
   "metadata": {
    "id": "gjxLxgB-piKN"
   },
   "outputs": [],
   "source": [
    "# training data with labels\n",
    "train_df = pd.read_csv(\"train.csv\")"
   ]
  },
  {
   "cell_type": "code",
   "execution_count": null,
   "metadata": {
    "id": "FIISt5LSpmYC"
   },
   "outputs": [],
   "source": [
    "df = df[['text', 'target']].dropna()\n",
    "def clean_text(s):\n",
    "    s = s.lower()\n",
    "    s = re.sub(r\"http\\S+|www\\S+|https\\S+\", \"\", s)\n",
    "    s = re.sub(r\"@\\w+\", \"\", s)\n",
    "    s = re.sub(r\"[^a-z0-9\\s#']\", \" \", s)\n",
    "    s = re.sub(r\"\\s+\", \" \", s).strip()\n",
    "    return s\n",
    "df['text'] = df['text'].astype(str).map(clean_text)"
   ]
  },
  {
   "cell_type": "markdown",
   "metadata": {
    "id": "ayVUufTMrhAp"
   },
   "source": [
    "### Train-Test Split and Vectorize"
   ]
  },
  {
   "cell_type": "code",
   "execution_count": null,
   "metadata": {
    "id": "RmpBAc-2przA"
   },
   "outputs": [],
   "source": [
    "# Split\n",
    "\n",
    "X_train, X_test, y_train, y_test = train_test_split(\n",
    "    df['text'], df['target'], test_size=0.20, random_state=42, stratify=df['target']\n",
    ")"
   ]
  },
  {
   "cell_type": "code",
   "execution_count": null,
   "metadata": {
    "id": "9t4cL1BKptbx"
   },
   "outputs": [],
   "source": [
    "# Vectorize\n",
    "\n",
    "vectorizer = TfidfVectorizer(stop_words='english', max_features=5000)\n",
    "X_train_tfidf = vectorizer.fit_transform(X_train)\n",
    "X_test_tfidf  = vectorizer.transform(X_test)"
   ]
  },
  {
   "cell_type": "markdown",
   "metadata": {
    "id": "UYDJVjlUrlXh"
   },
   "source": [
    "### Train and Evaluate Logistic regression"
   ]
  },
  {
   "cell_type": "code",
   "execution_count": null,
   "metadata": {
    "colab": {
     "base_uri": "https://localhost:8080/",
     "height": 81
    },
    "id": "O0pR8QbOpxn4",
    "outputId": "fa9a8146-5a56-4930-d0d5-02159dbf2434"
   },
   "outputs": [],
   "source": [
    "from sklearn.linear_model import LogisticRegression\n",
    "\n",
    "model = LogisticRegression(max_iter=1000, class_weight='balanced')\n",
    "model.fit(X_train_tfidf, y_train)"
   ]
  },
  {
   "cell_type": "code",
   "execution_count": null,
   "metadata": {
    "colab": {
     "base_uri": "https://localhost:8080/"
    },
    "id": "_mWvdx47p2Sg",
    "outputId": "f6add0a4-542e-4998-8d55-8d7322f5377e"
   },
   "outputs": [],
   "source": [
    "#  Evaluate\n",
    "y_pred = model.predict(X_test_tfidf)\n",
    "print(\"Accuracy:\", accuracy_score(y_test, y_pred))\n",
    "print(\"\\nClassification report:\\n\", classification_report(y_test, y_pred))\n",
    "print(\"\\nConfusion matrix:\\n\", confusion_matrix(y_test, y_pred))"
   ]
  },
  {
   "cell_type": "code",
   "execution_count": null,
   "metadata": {
    "colab": {
     "base_uri": "https://localhost:8080/",
     "height": 391
    },
    "id": "_K2YkyLIsJSQ",
    "outputId": "feacd6d0-8f27-435d-abc2-f3c6e1ee6c02"
   },
   "outputs": [],
   "source": [
    "import matplotlib.pyplot as plt\n",
    "import seaborn as sns\n",
    "from sklearn.metrics import precision_score, recall_score, f1_score\n",
    "\n",
    "# --- Scores ---\n",
    "acc = accuracy_score(y_test, y_pred)\n",
    "prec = precision_score(y_test, y_pred)\n",
    "rec = recall_score(y_test, y_pred)\n",
    "f1 = f1_score(y_test, y_pred)\n",
    "\n",
    "scores = {\n",
    "    \"Accuracy\": acc,\n",
    "    \"Precision\": prec,\n",
    "    \"Recall\": rec,\n",
    "    \"F1-score\": f1\n",
    "}\n",
    "\n",
    "# --- Bar Plot ---\n",
    "plt.figure(figsize=(6,4))\n",
    "bars = plt.bar(scores.keys(), scores.values(), color=['skyblue','orange','green','red'])\n",
    "plt.ylim(0,1)\n",
    "plt.title(\"Model Evaluation Metrics\")\n",
    "\n",
    "# Add score labels above each bar\n",
    "for bar in bars:\n",
    "    height = bar.get_height()\n",
    "    plt.text(bar.get_x() + bar.get_width()/2, height+0.02, f\"{height:.2f}\",\n",
    "             ha='center', va='bottom', fontsize=10, fontweight='bold')\n",
    "\n",
    "plt.show()"
   ]
  },
  {
   "cell_type": "code",
   "execution_count": null,
   "metadata": {
    "colab": {
     "base_uri": "https://localhost:8080/",
     "height": 410
    },
    "id": "ZjDHDnGDsMFQ",
    "outputId": "f4df42ad-f7a2-484f-cb38-79ba5b5d14c4"
   },
   "outputs": [],
   "source": [
    "# --- Confusion Matrix Heatmap ---\n",
    "cm = confusion_matrix(y_test, y_pred)\n",
    "plt.figure(figsize=(5,4))\n",
    "sns.heatmap(cm, annot=True, fmt=\"d\", cmap=\"Blues\", xticklabels=[0,1], yticklabels=[0,1])\n",
    "plt.xlabel(\"Predicted\")\n",
    "plt.ylabel(\"True\")\n",
    "plt.title(\"Confusion Matrix\")\n",
    "plt.show()"
   ]
  },
  {
   "cell_type": "markdown",
   "metadata": {
    "id": "ATvR_EC5rNrx"
   },
   "source": [
    "### Save Misclassified Samples to check Hallucination and failure cases"
   ]
  },
  {
   "cell_type": "code",
   "execution_count": null,
   "metadata": {
    "colab": {
     "base_uri": "https://localhost:8080/"
    },
    "id": "LeO8-2F_p4Dh",
    "outputId": "f23a4b4d-0d5a-4c35-ef63-9f8f5e1b24c2"
   },
   "outputs": [],
   "source": [
    "#  Save misclassified examples (with prediction probability)\n",
    "probs = model.predict_proba(X_test_tfidf)  # shape (n_samples, 2)\n",
    "pred_conf = probs.max(axis=1)\n",
    "results = pd.DataFrame({\n",
    "    'text': X_test.values,\n",
    "    'true': y_test.values,\n",
    "    'pred': y_pred,\n",
    "    'pred_confidence': pred_conf\n",
    "})\n",
    "misclassified = results[results['true'] != results['pred']].sort_values('pred_confidence', ascending=False)\n",
    "misclassified.to_csv(\"misclassified_examples.csv\", index=False)\n",
    "print(f\"\\nSaved {len(misclassified)} misclassified examples to misclassified_examples.csv\")\n",
    "print(\"Top 5 confident wrong predictions:\")\n",
    "print(misclassified.head(5))"
   ]
  },
  {
   "cell_type": "markdown",
   "metadata": {
    "id": "awFIIlqmrYqY"
   },
   "source": [
    "### Save keyword bias check"
   ]
  },
  {
   "cell_type": "code",
   "execution_count": null,
   "metadata": {
    "colab": {
     "base_uri": "https://localhost:8080/"
    },
    "id": "63e2ouTDqG3B",
    "outputId": "870ba291-c7b9-475c-c6cf-8543462889e2"
   },
   "outputs": [],
   "source": [
    "# Quick keyword-based bias check\n",
    "keywords = ['allah','pray','bomb','muslim','hurricane','earthquake','flood','fire','attack','refugee','kashmir']\n",
    "bias_rows = []\n",
    "full_X = df['text']\n",
    "full_y = df['target']\n",
    "for kw in keywords:\n",
    "    mask = full_X.str.contains(r'\\b'+re.escape(kw)+r'\\b', case=False, na=False)\n",
    "    subset = df[mask]\n",
    "    if len(subset)==0:\n",
    "        continue\n",
    "    preds = model.predict(vectorizer.transform(subset['text']))\n",
    "    bias_rows.append({\n",
    "        'keyword': kw,\n",
    "        'count': len(subset),\n",
    "        'pred_disaster_rate': float(preds.mean()),\n",
    "        'true_disaster_rate': float(subset['target'].mean())\n",
    "    })\n",
    "bias_df = pd.DataFrame(bias_rows).sort_values('count', ascending=False)\n",
    "bias_df.to_csv(\"keyword_bias_check.csv\", index=False)\n",
    "print(\"\\nSaved keyword bias check to keyword_bias_check.csv\")\n",
    "print(bias_df)"
   ]
  }
 ],
 "metadata": {
  "colab": {
   "provenance": []
  },
  "kernelspec": {
   "display_name": "Python 3",
   "name": "python3"
  },
  "language_info": {
   "name": "python"
  },
  "widgets": {
   "application/vnd.jupyter.widget-state+json": {
    "01ae13b0148d43acbbdc72012f48653b": {
     "model_module": "@jupyter-widgets/controls",
     "model_module_version": "1.5.0",
     "model_name": "HTMLModel",
     "state": {
      "_dom_classes": [],
      "_model_module": "@jupyter-widgets/controls",
      "_model_module_version": "1.5.0",
      "_model_name": "HTMLModel",
      "_view_count": null,
      "_view_module": "@jupyter-widgets/controls",
      "_view_module_version": "1.5.0",
      "_view_name": "HTMLView",
      "description": "",
      "description_tooltip": null,
      "layout": "IPY_MODEL_4c5b8e8ee0f6488abbcc342ad3c0f458",
      "placeholder": "​",
      "style": "IPY_MODEL_d384992f1fbc40e5af90e5a0f1f59016",
      "value": " 466k/466k [00:00&lt;00:00, 13.2MB/s]"
     }
    },
    "06b2f97bd88e46a889b547f6bcc73c9d": {
     "model_module": "@jupyter-widgets/controls",
     "model_module_version": "1.5.0",
     "model_name": "HTMLModel",
     "state": {
      "_dom_classes": [],
      "_model_module": "@jupyter-widgets/controls",
      "_model_module_version": "1.5.0",
      "_model_name": "HTMLModel",
      "_view_count": null,
      "_view_module": "@jupyter-widgets/controls",
      "_view_module_version": "1.5.0",
      "_view_name": "HTMLView",
      "description": "",
      "description_tooltip": null,
      "layout": "IPY_MODEL_a5f052c7fcee4468a8200ffa9b35556b",
      "placeholder": "​",
      "style": "IPY_MODEL_eaba4b9ff077407098714044add90b47",
      "value": "tokenizer_config.json: 100%"
     }
    },
    "09aa6e350e2e4ae1b5ff69a769bd3697": {
     "model_module": "@jupyter-widgets/controls",
     "model_module_version": "1.5.0",
     "model_name": "DescriptionStyleModel",
     "state": {
      "_model_module": "@jupyter-widgets/controls",
      "_model_module_version": "1.5.0",
      "_model_name": "DescriptionStyleModel",
      "_view_count": null,
      "_view_module": "@jupyter-widgets/base",
      "_view_module_version": "1.2.0",
      "_view_name": "StyleView",
      "description_width": ""
     }
    },
    "109b76aa28fd48f881ae63f980b4fac4": {
     "model_module": "@jupyter-widgets/controls",
     "model_module_version": "1.5.0",
     "model_name": "FloatProgressModel",
     "state": {
      "_dom_classes": [],
      "_model_module": "@jupyter-widgets/controls",
      "_model_module_version": "1.5.0",
      "_model_name": "FloatProgressModel",
      "_view_count": null,
      "_view_module": "@jupyter-widgets/controls",
      "_view_module_version": "1.5.0",
      "_view_name": "ProgressView",
      "bar_style": "success",
      "description": "",
      "description_tooltip": null,
      "layout": "IPY_MODEL_6b7b64cc9b964621b7b5b9135ec5c535",
      "max": 48,
      "min": 0,
      "orientation": "horizontal",
      "style": "IPY_MODEL_5ff0382dc31043d98e404befd178bf1d",
      "value": 48
     }
    },
    "130107bd62d449269cc80d38ac8a4f2e": {
     "model_module": "@jupyter-widgets/controls",
     "model_module_version": "1.5.0",
     "model_name": "DescriptionStyleModel",
     "state": {
      "_model_module": "@jupyter-widgets/controls",
      "_model_module_version": "1.5.0",
      "_model_name": "DescriptionStyleModel",
      "_view_count": null,
      "_view_module": "@jupyter-widgets/base",
      "_view_module_version": "1.2.0",
      "_view_name": "StyleView",
      "description_width": ""
     }
    },
    "14139c824f42496ca25420d1de6ae0a2": {
     "model_module": "@jupyter-widgets/controls",
     "model_module_version": "1.5.0",
     "model_name": "ProgressStyleModel",
     "state": {
      "_model_module": "@jupyter-widgets/controls",
      "_model_module_version": "1.5.0",
      "_model_name": "ProgressStyleModel",
      "_view_count": null,
      "_view_module": "@jupyter-widgets/base",
      "_view_module_version": "1.2.0",
      "_view_name": "StyleView",
      "bar_color": null,
      "description_width": ""
     }
    },
    "14e7fd4f6fb64d03bc7fceded14f033c": {
     "model_module": "@jupyter-widgets/controls",
     "model_module_version": "1.5.0",
     "model_name": "FloatProgressModel",
     "state": {
      "_dom_classes": [],
      "_model_module": "@jupyter-widgets/controls",
      "_model_module_version": "1.5.0",
      "_model_name": "FloatProgressModel",
      "_view_count": null,
      "_view_module": "@jupyter-widgets/controls",
      "_view_module_version": "1.5.0",
      "_view_name": "ProgressView",
      "bar_style": "success",
      "description": "",
      "description_tooltip": null,
      "layout": "IPY_MODEL_55dfef3eed934037a6b58f0bdbb0a754",
      "max": 231508,
      "min": 0,
      "orientation": "horizontal",
      "style": "IPY_MODEL_ddc099f06b054a0eb55daec55c60a5a8",
      "value": 231508
     }
    },
    "16d11b32735e4412a4eca71d9ae6f42f": {
     "model_module": "@jupyter-widgets/base",
     "model_module_version": "1.2.0",
     "model_name": "LayoutModel",
     "state": {
      "_model_module": "@jupyter-widgets/base",
      "_model_module_version": "1.2.0",
      "_model_name": "LayoutModel",
      "_view_count": null,
      "_view_module": "@jupyter-widgets/base",
      "_view_module_version": "1.2.0",
      "_view_name": "LayoutView",
      "align_content": null,
      "align_items": null,
      "align_self": null,
      "border": null,
      "bottom": null,
      "display": null,
      "flex": null,
      "flex_flow": null,
      "grid_area": null,
      "grid_auto_columns": null,
      "grid_auto_flow": null,
      "grid_auto_rows": null,
      "grid_column": null,
      "grid_gap": null,
      "grid_row": null,
      "grid_template_areas": null,
      "grid_template_columns": null,
      "grid_template_rows": null,
      "height": null,
      "justify_content": null,
      "justify_items": null,
      "left": null,
      "margin": null,
      "max_height": null,
      "max_width": null,
      "min_height": null,
      "min_width": null,
      "object_fit": null,
      "object_position": null,
      "order": null,
      "overflow": null,
      "overflow_x": null,
      "overflow_y": null,
      "padding": null,
      "right": null,
      "top": null,
      "visibility": null,
      "width": null
     }
    },
    "1bd9a29513de45d3b3eb253e9ac4ce93": {
     "model_module": "@jupyter-widgets/controls",
     "model_module_version": "1.5.0",
     "model_name": "HBoxModel",
     "state": {
      "_dom_classes": [],
      "_model_module": "@jupyter-widgets/controls",
      "_model_module_version": "1.5.0",
      "_model_name": "HBoxModel",
      "_view_count": null,
      "_view_module": "@jupyter-widgets/controls",
      "_view_module_version": "1.5.0",
      "_view_name": "HBoxView",
      "box_style": "",
      "children": [
       "IPY_MODEL_9caf8f41099a44b18ad8bb95bde62cdf",
       "IPY_MODEL_f4bba914b06c470baf6f1941fed716ed",
       "IPY_MODEL_01ae13b0148d43acbbdc72012f48653b"
      ],
      "layout": "IPY_MODEL_fdbe500f0cd04ce2baab3f729ca37854"
     }
    },
    "1dcbac8f96ba4fb7b2e1eb09a3233585": {
     "model_module": "@jupyter-widgets/controls",
     "model_module_version": "1.5.0",
     "model_name": "HTMLModel",
     "state": {
      "_dom_classes": [],
      "_model_module": "@jupyter-widgets/controls",
      "_model_module_version": "1.5.0",
      "_model_name": "HTMLModel",
      "_view_count": null,
      "_view_module": "@jupyter-widgets/controls",
      "_view_module_version": "1.5.0",
      "_view_name": "HTMLView",
      "description": "",
      "description_tooltip": null,
      "layout": "IPY_MODEL_e92516778e154ba8a2ab269b0756f8df",
      "placeholder": "​",
      "style": "IPY_MODEL_21cf94fbd68c49e08ceb71751dd8c37a",
      "value": "config.json: 100%"
     }
    },
    "21cf94fbd68c49e08ceb71751dd8c37a": {
     "model_module": "@jupyter-widgets/controls",
     "model_module_version": "1.5.0",
     "model_name": "DescriptionStyleModel",
     "state": {
      "_model_module": "@jupyter-widgets/controls",
      "_model_module_version": "1.5.0",
      "_model_name": "DescriptionStyleModel",
      "_view_count": null,
      "_view_module": "@jupyter-widgets/base",
      "_view_module_version": "1.2.0",
      "_view_name": "StyleView",
      "description_width": ""
     }
    },
    "27063b6f9d5c4a0199965e50c5b7bbfb": {
     "model_module": "@jupyter-widgets/controls",
     "model_module_version": "1.5.0",
     "model_name": "FloatProgressModel",
     "state": {
      "_dom_classes": [],
      "_model_module": "@jupyter-widgets/controls",
      "_model_module_version": "1.5.0",
      "_model_name": "FloatProgressModel",
      "_view_count": null,
      "_view_module": "@jupyter-widgets/controls",
      "_view_module_version": "1.5.0",
      "_view_name": "ProgressView",
      "bar_style": "success",
      "description": "",
      "description_tooltip": null,
      "layout": "IPY_MODEL_e08e5856573649708318a25f82593847",
      "max": 267967963,
      "min": 0,
      "orientation": "horizontal",
      "style": "IPY_MODEL_729bd448537545ba989920cb4c3e3d14",
      "value": 267967963
     }
    },
    "28a4bc31c93c47be81a17831aa4182a4": {
     "model_module": "@jupyter-widgets/base",
     "model_module_version": "1.2.0",
     "model_name": "LayoutModel",
     "state": {
      "_model_module": "@jupyter-widgets/base",
      "_model_module_version": "1.2.0",
      "_model_name": "LayoutModel",
      "_view_count": null,
      "_view_module": "@jupyter-widgets/base",
      "_view_module_version": "1.2.0",
      "_view_name": "LayoutView",
      "align_content": null,
      "align_items": null,
      "align_self": null,
      "border": null,
      "bottom": null,
      "display": null,
      "flex": null,
      "flex_flow": null,
      "grid_area": null,
      "grid_auto_columns": null,
      "grid_auto_flow": null,
      "grid_auto_rows": null,
      "grid_column": null,
      "grid_gap": null,
      "grid_row": null,
      "grid_template_areas": null,
      "grid_template_columns": null,
      "grid_template_rows": null,
      "height": null,
      "justify_content": null,
      "justify_items": null,
      "left": null,
      "margin": null,
      "max_height": null,
      "max_width": null,
      "min_height": null,
      "min_width": null,
      "object_fit": null,
      "object_position": null,
      "order": null,
      "overflow": null,
      "overflow_x": null,
      "overflow_y": null,
      "padding": null,
      "right": null,
      "top": null,
      "visibility": null,
      "width": null
     }
    },
    "30a6b0975b4d4e589cea7c04f1038fee": {
     "model_module": "@jupyter-widgets/controls",
     "model_module_version": "1.5.0",
     "model_name": "HBoxModel",
     "state": {
      "_dom_classes": [],
      "_model_module": "@jupyter-widgets/controls",
      "_model_module_version": "1.5.0",
      "_model_name": "HBoxModel",
      "_view_count": null,
      "_view_module": "@jupyter-widgets/controls",
      "_view_module_version": "1.5.0",
      "_view_name": "HBoxView",
      "box_style": "",
      "children": [
       "IPY_MODEL_e79348a2b5034a49aef1067551ce81b0",
       "IPY_MODEL_27063b6f9d5c4a0199965e50c5b7bbfb",
       "IPY_MODEL_454a2cb0f4034a43a0c235d735aadb3b"
      ],
      "layout": "IPY_MODEL_aa28dbb4210f446293bc0d0aa4057426"
     }
    },
    "3c3f1be393434c8c8621899be3199d6d": {
     "model_module": "@jupyter-widgets/base",
     "model_module_version": "1.2.0",
     "model_name": "LayoutModel",
     "state": {
      "_model_module": "@jupyter-widgets/base",
      "_model_module_version": "1.2.0",
      "_model_name": "LayoutModel",
      "_view_count": null,
      "_view_module": "@jupyter-widgets/base",
      "_view_module_version": "1.2.0",
      "_view_name": "LayoutView",
      "align_content": null,
      "align_items": null,
      "align_self": null,
      "border": null,
      "bottom": null,
      "display": null,
      "flex": null,
      "flex_flow": null,
      "grid_area": null,
      "grid_auto_columns": null,
      "grid_auto_flow": null,
      "grid_auto_rows": null,
      "grid_column": null,
      "grid_gap": null,
      "grid_row": null,
      "grid_template_areas": null,
      "grid_template_columns": null,
      "grid_template_rows": null,
      "height": null,
      "justify_content": null,
      "justify_items": null,
      "left": null,
      "margin": null,
      "max_height": null,
      "max_width": null,
      "min_height": null,
      "min_width": null,
      "object_fit": null,
      "object_position": null,
      "order": null,
      "overflow": null,
      "overflow_x": null,
      "overflow_y": null,
      "padding": null,
      "right": null,
      "top": null,
      "visibility": null,
      "width": null
     }
    },
    "454a2cb0f4034a43a0c235d735aadb3b": {
     "model_module": "@jupyter-widgets/controls",
     "model_module_version": "1.5.0",
     "model_name": "HTMLModel",
     "state": {
      "_dom_classes": [],
      "_model_module": "@jupyter-widgets/controls",
      "_model_module_version": "1.5.0",
      "_model_name": "HTMLModel",
      "_view_count": null,
      "_view_module": "@jupyter-widgets/controls",
      "_view_module_version": "1.5.0",
      "_view_name": "HTMLView",
      "description": "",
      "description_tooltip": null,
      "layout": "IPY_MODEL_54c351fd93d34634818e8d8239dead46",
      "placeholder": "​",
      "style": "IPY_MODEL_130107bd62d449269cc80d38ac8a4f2e",
      "value": " 268M/268M [00:07&lt;00:00, 36.4MB/s]"
     }
    },
    "4c5b8e8ee0f6488abbcc342ad3c0f458": {
     "model_module": "@jupyter-widgets/base",
     "model_module_version": "1.2.0",
     "model_name": "LayoutModel",
     "state": {
      "_model_module": "@jupyter-widgets/base",
      "_model_module_version": "1.2.0",
      "_model_name": "LayoutModel",
      "_view_count": null,
      "_view_module": "@jupyter-widgets/base",
      "_view_module_version": "1.2.0",
      "_view_name": "LayoutView",
      "align_content": null,
      "align_items": null,
      "align_self": null,
      "border": null,
      "bottom": null,
      "display": null,
      "flex": null,
      "flex_flow": null,
      "grid_area": null,
      "grid_auto_columns": null,
      "grid_auto_flow": null,
      "grid_auto_rows": null,
      "grid_column": null,
      "grid_gap": null,
      "grid_row": null,
      "grid_template_areas": null,
      "grid_template_columns": null,
      "grid_template_rows": null,
      "height": null,
      "justify_content": null,
      "justify_items": null,
      "left": null,
      "margin": null,
      "max_height": null,
      "max_width": null,
      "min_height": null,
      "min_width": null,
      "object_fit": null,
      "object_position": null,
      "order": null,
      "overflow": null,
      "overflow_x": null,
      "overflow_y": null,
      "padding": null,
      "right": null,
      "top": null,
      "visibility": null,
      "width": null
     }
    },
    "50f37bbd5b05488b9cdf4e6ce4996a8e": {
     "model_module": "@jupyter-widgets/base",
     "model_module_version": "1.2.0",
     "model_name": "LayoutModel",
     "state": {
      "_model_module": "@jupyter-widgets/base",
      "_model_module_version": "1.2.0",
      "_model_name": "LayoutModel",
      "_view_count": null,
      "_view_module": "@jupyter-widgets/base",
      "_view_module_version": "1.2.0",
      "_view_name": "LayoutView",
      "align_content": null,
      "align_items": null,
      "align_self": null,
      "border": null,
      "bottom": null,
      "display": null,
      "flex": null,
      "flex_flow": null,
      "grid_area": null,
      "grid_auto_columns": null,
      "grid_auto_flow": null,
      "grid_auto_rows": null,
      "grid_column": null,
      "grid_gap": null,
      "grid_row": null,
      "grid_template_areas": null,
      "grid_template_columns": null,
      "grid_template_rows": null,
      "height": null,
      "justify_content": null,
      "justify_items": null,
      "left": null,
      "margin": null,
      "max_height": null,
      "max_width": null,
      "min_height": null,
      "min_width": null,
      "object_fit": null,
      "object_position": null,
      "order": null,
      "overflow": null,
      "overflow_x": null,
      "overflow_y": null,
      "padding": null,
      "right": null,
      "top": null,
      "visibility": null,
      "width": null
     }
    },
    "51b8fdf463af46bb85c96e478d005318": {
     "model_module": "@jupyter-widgets/controls",
     "model_module_version": "1.5.0",
     "model_name": "DescriptionStyleModel",
     "state": {
      "_model_module": "@jupyter-widgets/controls",
      "_model_module_version": "1.5.0",
      "_model_name": "DescriptionStyleModel",
      "_view_count": null,
      "_view_module": "@jupyter-widgets/base",
      "_view_module_version": "1.2.0",
      "_view_name": "StyleView",
      "description_width": ""
     }
    },
    "54c351fd93d34634818e8d8239dead46": {
     "model_module": "@jupyter-widgets/base",
     "model_module_version": "1.2.0",
     "model_name": "LayoutModel",
     "state": {
      "_model_module": "@jupyter-widgets/base",
      "_model_module_version": "1.2.0",
      "_model_name": "LayoutModel",
      "_view_count": null,
      "_view_module": "@jupyter-widgets/base",
      "_view_module_version": "1.2.0",
      "_view_name": "LayoutView",
      "align_content": null,
      "align_items": null,
      "align_self": null,
      "border": null,
      "bottom": null,
      "display": null,
      "flex": null,
      "flex_flow": null,
      "grid_area": null,
      "grid_auto_columns": null,
      "grid_auto_flow": null,
      "grid_auto_rows": null,
      "grid_column": null,
      "grid_gap": null,
      "grid_row": null,
      "grid_template_areas": null,
      "grid_template_columns": null,
      "grid_template_rows": null,
      "height": null,
      "justify_content": null,
      "justify_items": null,
      "left": null,
      "margin": null,
      "max_height": null,
      "max_width": null,
      "min_height": null,
      "min_width": null,
      "object_fit": null,
      "object_position": null,
      "order": null,
      "overflow": null,
      "overflow_x": null,
      "overflow_y": null,
      "padding": null,
      "right": null,
      "top": null,
      "visibility": null,
      "width": null
     }
    },
    "55dfef3eed934037a6b58f0bdbb0a754": {
     "model_module": "@jupyter-widgets/base",
     "model_module_version": "1.2.0",
     "model_name": "LayoutModel",
     "state": {
      "_model_module": "@jupyter-widgets/base",
      "_model_module_version": "1.2.0",
      "_model_name": "LayoutModel",
      "_view_count": null,
      "_view_module": "@jupyter-widgets/base",
      "_view_module_version": "1.2.0",
      "_view_name": "LayoutView",
      "align_content": null,
      "align_items": null,
      "align_self": null,
      "border": null,
      "bottom": null,
      "display": null,
      "flex": null,
      "flex_flow": null,
      "grid_area": null,
      "grid_auto_columns": null,
      "grid_auto_flow": null,
      "grid_auto_rows": null,
      "grid_column": null,
      "grid_gap": null,
      "grid_row": null,
      "grid_template_areas": null,
      "grid_template_columns": null,
      "grid_template_rows": null,
      "height": null,
      "justify_content": null,
      "justify_items": null,
      "left": null,
      "margin": null,
      "max_height": null,
      "max_width": null,
      "min_height": null,
      "min_width": null,
      "object_fit": null,
      "object_position": null,
      "order": null,
      "overflow": null,
      "overflow_x": null,
      "overflow_y": null,
      "padding": null,
      "right": null,
      "top": null,
      "visibility": null,
      "width": null
     }
    },
    "5ff0382dc31043d98e404befd178bf1d": {
     "model_module": "@jupyter-widgets/controls",
     "model_module_version": "1.5.0",
     "model_name": "ProgressStyleModel",
     "state": {
      "_model_module": "@jupyter-widgets/controls",
      "_model_module_version": "1.5.0",
      "_model_name": "ProgressStyleModel",
      "_view_count": null,
      "_view_module": "@jupyter-widgets/base",
      "_view_module_version": "1.2.0",
      "_view_name": "StyleView",
      "bar_color": null,
      "description_width": ""
     }
    },
    "6b7b64cc9b964621b7b5b9135ec5c535": {
     "model_module": "@jupyter-widgets/base",
     "model_module_version": "1.2.0",
     "model_name": "LayoutModel",
     "state": {
      "_model_module": "@jupyter-widgets/base",
      "_model_module_version": "1.2.0",
      "_model_name": "LayoutModel",
      "_view_count": null,
      "_view_module": "@jupyter-widgets/base",
      "_view_module_version": "1.2.0",
      "_view_name": "LayoutView",
      "align_content": null,
      "align_items": null,
      "align_self": null,
      "border": null,
      "bottom": null,
      "display": null,
      "flex": null,
      "flex_flow": null,
      "grid_area": null,
      "grid_auto_columns": null,
      "grid_auto_flow": null,
      "grid_auto_rows": null,
      "grid_column": null,
      "grid_gap": null,
      "grid_row": null,
      "grid_template_areas": null,
      "grid_template_columns": null,
      "grid_template_rows": null,
      "height": null,
      "justify_content": null,
      "justify_items": null,
      "left": null,
      "margin": null,
      "max_height": null,
      "max_width": null,
      "min_height": null,
      "min_width": null,
      "object_fit": null,
      "object_position": null,
      "order": null,
      "overflow": null,
      "overflow_x": null,
      "overflow_y": null,
      "padding": null,
      "right": null,
      "top": null,
      "visibility": null,
      "width": null
     }
    },
    "6ce7c2d411614aa897cf24055519494a": {
     "model_module": "@jupyter-widgets/base",
     "model_module_version": "1.2.0",
     "model_name": "LayoutModel",
     "state": {
      "_model_module": "@jupyter-widgets/base",
      "_model_module_version": "1.2.0",
      "_model_name": "LayoutModel",
      "_view_count": null,
      "_view_module": "@jupyter-widgets/base",
      "_view_module_version": "1.2.0",
      "_view_name": "LayoutView",
      "align_content": null,
      "align_items": null,
      "align_self": null,
      "border": null,
      "bottom": null,
      "display": null,
      "flex": null,
      "flex_flow": null,
      "grid_area": null,
      "grid_auto_columns": null,
      "grid_auto_flow": null,
      "grid_auto_rows": null,
      "grid_column": null,
      "grid_gap": null,
      "grid_row": null,
      "grid_template_areas": null,
      "grid_template_columns": null,
      "grid_template_rows": null,
      "height": null,
      "justify_content": null,
      "justify_items": null,
      "left": null,
      "margin": null,
      "max_height": null,
      "max_width": null,
      "min_height": null,
      "min_width": null,
      "object_fit": null,
      "object_position": null,
      "order": null,
      "overflow": null,
      "overflow_x": null,
      "overflow_y": null,
      "padding": null,
      "right": null,
      "top": null,
      "visibility": null,
      "width": null
     }
    },
    "71b0735cda0f4c6fa496490f83d8037d": {
     "model_module": "@jupyter-widgets/base",
     "model_module_version": "1.2.0",
     "model_name": "LayoutModel",
     "state": {
      "_model_module": "@jupyter-widgets/base",
      "_model_module_version": "1.2.0",
      "_model_name": "LayoutModel",
      "_view_count": null,
      "_view_module": "@jupyter-widgets/base",
      "_view_module_version": "1.2.0",
      "_view_name": "LayoutView",
      "align_content": null,
      "align_items": null,
      "align_self": null,
      "border": null,
      "bottom": null,
      "display": null,
      "flex": null,
      "flex_flow": null,
      "grid_area": null,
      "grid_auto_columns": null,
      "grid_auto_flow": null,
      "grid_auto_rows": null,
      "grid_column": null,
      "grid_gap": null,
      "grid_row": null,
      "grid_template_areas": null,
      "grid_template_columns": null,
      "grid_template_rows": null,
      "height": null,
      "justify_content": null,
      "justify_items": null,
      "left": null,
      "margin": null,
      "max_height": null,
      "max_width": null,
      "min_height": null,
      "min_width": null,
      "object_fit": null,
      "object_position": null,
      "order": null,
      "overflow": null,
      "overflow_x": null,
      "overflow_y": null,
      "padding": null,
      "right": null,
      "top": null,
      "visibility": null,
      "width": null
     }
    },
    "729bd448537545ba989920cb4c3e3d14": {
     "model_module": "@jupyter-widgets/controls",
     "model_module_version": "1.5.0",
     "model_name": "ProgressStyleModel",
     "state": {
      "_model_module": "@jupyter-widgets/controls",
      "_model_module_version": "1.5.0",
      "_model_name": "ProgressStyleModel",
      "_view_count": null,
      "_view_module": "@jupyter-widgets/base",
      "_view_module_version": "1.2.0",
      "_view_name": "StyleView",
      "bar_color": null,
      "description_width": ""
     }
    },
    "74d5cef3e54f421b8cba7310a1770a50": {
     "model_module": "@jupyter-widgets/controls",
     "model_module_version": "1.5.0",
     "model_name": "HBoxModel",
     "state": {
      "_dom_classes": [],
      "_model_module": "@jupyter-widgets/controls",
      "_model_module_version": "1.5.0",
      "_model_name": "HBoxModel",
      "_view_count": null,
      "_view_module": "@jupyter-widgets/controls",
      "_view_module_version": "1.5.0",
      "_view_name": "HBoxView",
      "box_style": "",
      "children": [
       "IPY_MODEL_1dcbac8f96ba4fb7b2e1eb09a3233585",
       "IPY_MODEL_8917caaea59b4339a325afc79e228890",
       "IPY_MODEL_a796d74f40ed441eadc8ac76e2980eba"
      ],
      "layout": "IPY_MODEL_6ce7c2d411614aa897cf24055519494a"
     }
    },
    "808a28a9791743a89c3b0651e722bd1e": {
     "model_module": "@jupyter-widgets/controls",
     "model_module_version": "1.5.0",
     "model_name": "HBoxModel",
     "state": {
      "_dom_classes": [],
      "_model_module": "@jupyter-widgets/controls",
      "_model_module_version": "1.5.0",
      "_model_name": "HBoxModel",
      "_view_count": null,
      "_view_module": "@jupyter-widgets/controls",
      "_view_module_version": "1.5.0",
      "_view_name": "HBoxView",
      "box_style": "",
      "children": [
       "IPY_MODEL_06b2f97bd88e46a889b547f6bcc73c9d",
       "IPY_MODEL_109b76aa28fd48f881ae63f980b4fac4",
       "IPY_MODEL_cdc148c0fea244f7af8ff820e09c9902"
      ],
      "layout": "IPY_MODEL_28a4bc31c93c47be81a17831aa4182a4"
     }
    },
    "8917caaea59b4339a325afc79e228890": {
     "model_module": "@jupyter-widgets/controls",
     "model_module_version": "1.5.0",
     "model_name": "FloatProgressModel",
     "state": {
      "_dom_classes": [],
      "_model_module": "@jupyter-widgets/controls",
      "_model_module_version": "1.5.0",
      "_model_name": "FloatProgressModel",
      "_view_count": null,
      "_view_module": "@jupyter-widgets/controls",
      "_view_module_version": "1.5.0",
      "_view_name": "ProgressView",
      "bar_style": "success",
      "description": "",
      "description_tooltip": null,
      "layout": "IPY_MODEL_aaeab976617d4534aa7e31a13ceb62ba",
      "max": 483,
      "min": 0,
      "orientation": "horizontal",
      "style": "IPY_MODEL_fcd6eb0b0ef04fb0a16e6fda71f0b448",
      "value": 483
     }
    },
    "9caf8f41099a44b18ad8bb95bde62cdf": {
     "model_module": "@jupyter-widgets/controls",
     "model_module_version": "1.5.0",
     "model_name": "HTMLModel",
     "state": {
      "_dom_classes": [],
      "_model_module": "@jupyter-widgets/controls",
      "_model_module_version": "1.5.0",
      "_model_name": "HTMLModel",
      "_view_count": null,
      "_view_module": "@jupyter-widgets/controls",
      "_view_module_version": "1.5.0",
      "_view_name": "HTMLView",
      "description": "",
      "description_tooltip": null,
      "layout": "IPY_MODEL_50f37bbd5b05488b9cdf4e6ce4996a8e",
      "placeholder": "​",
      "style": "IPY_MODEL_09aa6e350e2e4ae1b5ff69a769bd3697",
      "value": "tokenizer.json: 100%"
     }
    },
    "a371e457fb134e508ae31e614e787baa": {
     "model_module": "@jupyter-widgets/controls",
     "model_module_version": "1.5.0",
     "model_name": "HTMLModel",
     "state": {
      "_dom_classes": [],
      "_model_module": "@jupyter-widgets/controls",
      "_model_module_version": "1.5.0",
      "_model_name": "HTMLModel",
      "_view_count": null,
      "_view_module": "@jupyter-widgets/controls",
      "_view_module_version": "1.5.0",
      "_view_name": "HTMLView",
      "description": "",
      "description_tooltip": null,
      "layout": "IPY_MODEL_3c3f1be393434c8c8621899be3199d6d",
      "placeholder": "​",
      "style": "IPY_MODEL_eee0d3bd8576437092ae53ad48ab40e6",
      "value": "vocab.txt: 100%"
     }
    },
    "a5f052c7fcee4468a8200ffa9b35556b": {
     "model_module": "@jupyter-widgets/base",
     "model_module_version": "1.2.0",
     "model_name": "LayoutModel",
     "state": {
      "_model_module": "@jupyter-widgets/base",
      "_model_module_version": "1.2.0",
      "_model_name": "LayoutModel",
      "_view_count": null,
      "_view_module": "@jupyter-widgets/base",
      "_view_module_version": "1.2.0",
      "_view_name": "LayoutView",
      "align_content": null,
      "align_items": null,
      "align_self": null,
      "border": null,
      "bottom": null,
      "display": null,
      "flex": null,
      "flex_flow": null,
      "grid_area": null,
      "grid_auto_columns": null,
      "grid_auto_flow": null,
      "grid_auto_rows": null,
      "grid_column": null,
      "grid_gap": null,
      "grid_row": null,
      "grid_template_areas": null,
      "grid_template_columns": null,
      "grid_template_rows": null,
      "height": null,
      "justify_content": null,
      "justify_items": null,
      "left": null,
      "margin": null,
      "max_height": null,
      "max_width": null,
      "min_height": null,
      "min_width": null,
      "object_fit": null,
      "object_position": null,
      "order": null,
      "overflow": null,
      "overflow_x": null,
      "overflow_y": null,
      "padding": null,
      "right": null,
      "top": null,
      "visibility": null,
      "width": null
     }
    },
    "a796d74f40ed441eadc8ac76e2980eba": {
     "model_module": "@jupyter-widgets/controls",
     "model_module_version": "1.5.0",
     "model_name": "HTMLModel",
     "state": {
      "_dom_classes": [],
      "_model_module": "@jupyter-widgets/controls",
      "_model_module_version": "1.5.0",
      "_model_name": "HTMLModel",
      "_view_count": null,
      "_view_module": "@jupyter-widgets/controls",
      "_view_module_version": "1.5.0",
      "_view_name": "HTMLView",
      "description": "",
      "description_tooltip": null,
      "layout": "IPY_MODEL_ef593b7c7bc44bc3976921acc509971d",
      "placeholder": "​",
      "style": "IPY_MODEL_51b8fdf463af46bb85c96e478d005318",
      "value": " 483/483 [00:00&lt;00:00, 39.6kB/s]"
     }
    },
    "aa28dbb4210f446293bc0d0aa4057426": {
     "model_module": "@jupyter-widgets/base",
     "model_module_version": "1.2.0",
     "model_name": "LayoutModel",
     "state": {
      "_model_module": "@jupyter-widgets/base",
      "_model_module_version": "1.2.0",
      "_model_name": "LayoutModel",
      "_view_count": null,
      "_view_module": "@jupyter-widgets/base",
      "_view_module_version": "1.2.0",
      "_view_name": "LayoutView",
      "align_content": null,
      "align_items": null,
      "align_self": null,
      "border": null,
      "bottom": null,
      "display": null,
      "flex": null,
      "flex_flow": null,
      "grid_area": null,
      "grid_auto_columns": null,
      "grid_auto_flow": null,
      "grid_auto_rows": null,
      "grid_column": null,
      "grid_gap": null,
      "grid_row": null,
      "grid_template_areas": null,
      "grid_template_columns": null,
      "grid_template_rows": null,
      "height": null,
      "justify_content": null,
      "justify_items": null,
      "left": null,
      "margin": null,
      "max_height": null,
      "max_width": null,
      "min_height": null,
      "min_width": null,
      "object_fit": null,
      "object_position": null,
      "order": null,
      "overflow": null,
      "overflow_x": null,
      "overflow_y": null,
      "padding": null,
      "right": null,
      "top": null,
      "visibility": null,
      "width": null
     }
    },
    "aaeab976617d4534aa7e31a13ceb62ba": {
     "model_module": "@jupyter-widgets/base",
     "model_module_version": "1.2.0",
     "model_name": "LayoutModel",
     "state": {
      "_model_module": "@jupyter-widgets/base",
      "_model_module_version": "1.2.0",
      "_model_name": "LayoutModel",
      "_view_count": null,
      "_view_module": "@jupyter-widgets/base",
      "_view_module_version": "1.2.0",
      "_view_name": "LayoutView",
      "align_content": null,
      "align_items": null,
      "align_self": null,
      "border": null,
      "bottom": null,
      "display": null,
      "flex": null,
      "flex_flow": null,
      "grid_area": null,
      "grid_auto_columns": null,
      "grid_auto_flow": null,
      "grid_auto_rows": null,
      "grid_column": null,
      "grid_gap": null,
      "grid_row": null,
      "grid_template_areas": null,
      "grid_template_columns": null,
      "grid_template_rows": null,
      "height": null,
      "justify_content": null,
      "justify_items": null,
      "left": null,
      "margin": null,
      "max_height": null,
      "max_width": null,
      "min_height": null,
      "min_width": null,
      "object_fit": null,
      "object_position": null,
      "order": null,
      "overflow": null,
      "overflow_x": null,
      "overflow_y": null,
      "padding": null,
      "right": null,
      "top": null,
      "visibility": null,
      "width": null
     }
    },
    "ac942463ff1d4a558bbd72e2f22cf1f9": {
     "model_module": "@jupyter-widgets/base",
     "model_module_version": "1.2.0",
     "model_name": "LayoutModel",
     "state": {
      "_model_module": "@jupyter-widgets/base",
      "_model_module_version": "1.2.0",
      "_model_name": "LayoutModel",
      "_view_count": null,
      "_view_module": "@jupyter-widgets/base",
      "_view_module_version": "1.2.0",
      "_view_name": "LayoutView",
      "align_content": null,
      "align_items": null,
      "align_self": null,
      "border": null,
      "bottom": null,
      "display": null,
      "flex": null,
      "flex_flow": null,
      "grid_area": null,
      "grid_auto_columns": null,
      "grid_auto_flow": null,
      "grid_auto_rows": null,
      "grid_column": null,
      "grid_gap": null,
      "grid_row": null,
      "grid_template_areas": null,
      "grid_template_columns": null,
      "grid_template_rows": null,
      "height": null,
      "justify_content": null,
      "justify_items": null,
      "left": null,
      "margin": null,
      "max_height": null,
      "max_width": null,
      "min_height": null,
      "min_width": null,
      "object_fit": null,
      "object_position": null,
      "order": null,
      "overflow": null,
      "overflow_x": null,
      "overflow_y": null,
      "padding": null,
      "right": null,
      "top": null,
      "visibility": null,
      "width": null
     }
    },
    "aea92ea523524b54b68c0a66108d6130": {
     "model_module": "@jupyter-widgets/base",
     "model_module_version": "1.2.0",
     "model_name": "LayoutModel",
     "state": {
      "_model_module": "@jupyter-widgets/base",
      "_model_module_version": "1.2.0",
      "_model_name": "LayoutModel",
      "_view_count": null,
      "_view_module": "@jupyter-widgets/base",
      "_view_module_version": "1.2.0",
      "_view_name": "LayoutView",
      "align_content": null,
      "align_items": null,
      "align_self": null,
      "border": null,
      "bottom": null,
      "display": null,
      "flex": null,
      "flex_flow": null,
      "grid_area": null,
      "grid_auto_columns": null,
      "grid_auto_flow": null,
      "grid_auto_rows": null,
      "grid_column": null,
      "grid_gap": null,
      "grid_row": null,
      "grid_template_areas": null,
      "grid_template_columns": null,
      "grid_template_rows": null,
      "height": null,
      "justify_content": null,
      "justify_items": null,
      "left": null,
      "margin": null,
      "max_height": null,
      "max_width": null,
      "min_height": null,
      "min_width": null,
      "object_fit": null,
      "object_position": null,
      "order": null,
      "overflow": null,
      "overflow_x": null,
      "overflow_y": null,
      "padding": null,
      "right": null,
      "top": null,
      "visibility": null,
      "width": null
     }
    },
    "b5f6359925bc465e83083461371d0959": {
     "model_module": "@jupyter-widgets/controls",
     "model_module_version": "1.5.0",
     "model_name": "DescriptionStyleModel",
     "state": {
      "_model_module": "@jupyter-widgets/controls",
      "_model_module_version": "1.5.0",
      "_model_name": "DescriptionStyleModel",
      "_view_count": null,
      "_view_module": "@jupyter-widgets/base",
      "_view_module_version": "1.2.0",
      "_view_name": "StyleView",
      "description_width": ""
     }
    },
    "bdf620a4d48c4553a7f8b5993abbf8cd": {
     "model_module": "@jupyter-widgets/controls",
     "model_module_version": "1.5.0",
     "model_name": "HBoxModel",
     "state": {
      "_dom_classes": [],
      "_model_module": "@jupyter-widgets/controls",
      "_model_module_version": "1.5.0",
      "_model_name": "HBoxModel",
      "_view_count": null,
      "_view_module": "@jupyter-widgets/controls",
      "_view_module_version": "1.5.0",
      "_view_name": "HBoxView",
      "box_style": "",
      "children": [
       "IPY_MODEL_a371e457fb134e508ae31e614e787baa",
       "IPY_MODEL_14e7fd4f6fb64d03bc7fceded14f033c",
       "IPY_MODEL_fdefcf009ff14f7eb142d82ae45d0ba9"
      ],
      "layout": "IPY_MODEL_16d11b32735e4412a4eca71d9ae6f42f"
     }
    },
    "cdc148c0fea244f7af8ff820e09c9902": {
     "model_module": "@jupyter-widgets/controls",
     "model_module_version": "1.5.0",
     "model_name": "HTMLModel",
     "state": {
      "_dom_classes": [],
      "_model_module": "@jupyter-widgets/controls",
      "_model_module_version": "1.5.0",
      "_model_name": "HTMLModel",
      "_view_count": null,
      "_view_module": "@jupyter-widgets/controls",
      "_view_module_version": "1.5.0",
      "_view_name": "HTMLView",
      "description": "",
      "description_tooltip": null,
      "layout": "IPY_MODEL_fc778e21ca6f4ca3b12a0f6348307ac6",
      "placeholder": "​",
      "style": "IPY_MODEL_d0b3190f9f3d43deb18b2f2b2277db45",
      "value": " 48.0/48.0 [00:00&lt;00:00, 4.31kB/s]"
     }
    },
    "d0b3190f9f3d43deb18b2f2b2277db45": {
     "model_module": "@jupyter-widgets/controls",
     "model_module_version": "1.5.0",
     "model_name": "DescriptionStyleModel",
     "state": {
      "_model_module": "@jupyter-widgets/controls",
      "_model_module_version": "1.5.0",
      "_model_name": "DescriptionStyleModel",
      "_view_count": null,
      "_view_module": "@jupyter-widgets/base",
      "_view_module_version": "1.2.0",
      "_view_name": "StyleView",
      "description_width": ""
     }
    },
    "d384992f1fbc40e5af90e5a0f1f59016": {
     "model_module": "@jupyter-widgets/controls",
     "model_module_version": "1.5.0",
     "model_name": "DescriptionStyleModel",
     "state": {
      "_model_module": "@jupyter-widgets/controls",
      "_model_module_version": "1.5.0",
      "_model_name": "DescriptionStyleModel",
      "_view_count": null,
      "_view_module": "@jupyter-widgets/base",
      "_view_module_version": "1.2.0",
      "_view_name": "StyleView",
      "description_width": ""
     }
    },
    "ddc099f06b054a0eb55daec55c60a5a8": {
     "model_module": "@jupyter-widgets/controls",
     "model_module_version": "1.5.0",
     "model_name": "ProgressStyleModel",
     "state": {
      "_model_module": "@jupyter-widgets/controls",
      "_model_module_version": "1.5.0",
      "_model_name": "ProgressStyleModel",
      "_view_count": null,
      "_view_module": "@jupyter-widgets/base",
      "_view_module_version": "1.2.0",
      "_view_name": "StyleView",
      "bar_color": null,
      "description_width": ""
     }
    },
    "e08e5856573649708318a25f82593847": {
     "model_module": "@jupyter-widgets/base",
     "model_module_version": "1.2.0",
     "model_name": "LayoutModel",
     "state": {
      "_model_module": "@jupyter-widgets/base",
      "_model_module_version": "1.2.0",
      "_model_name": "LayoutModel",
      "_view_count": null,
      "_view_module": "@jupyter-widgets/base",
      "_view_module_version": "1.2.0",
      "_view_name": "LayoutView",
      "align_content": null,
      "align_items": null,
      "align_self": null,
      "border": null,
      "bottom": null,
      "display": null,
      "flex": null,
      "flex_flow": null,
      "grid_area": null,
      "grid_auto_columns": null,
      "grid_auto_flow": null,
      "grid_auto_rows": null,
      "grid_column": null,
      "grid_gap": null,
      "grid_row": null,
      "grid_template_areas": null,
      "grid_template_columns": null,
      "grid_template_rows": null,
      "height": null,
      "justify_content": null,
      "justify_items": null,
      "left": null,
      "margin": null,
      "max_height": null,
      "max_width": null,
      "min_height": null,
      "min_width": null,
      "object_fit": null,
      "object_position": null,
      "order": null,
      "overflow": null,
      "overflow_x": null,
      "overflow_y": null,
      "padding": null,
      "right": null,
      "top": null,
      "visibility": null,
      "width": null
     }
    },
    "e79348a2b5034a49aef1067551ce81b0": {
     "model_module": "@jupyter-widgets/controls",
     "model_module_version": "1.5.0",
     "model_name": "HTMLModel",
     "state": {
      "_dom_classes": [],
      "_model_module": "@jupyter-widgets/controls",
      "_model_module_version": "1.5.0",
      "_model_name": "HTMLModel",
      "_view_count": null,
      "_view_module": "@jupyter-widgets/controls",
      "_view_module_version": "1.5.0",
      "_view_name": "HTMLView",
      "description": "",
      "description_tooltip": null,
      "layout": "IPY_MODEL_ac942463ff1d4a558bbd72e2f22cf1f9",
      "placeholder": "​",
      "style": "IPY_MODEL_eaed2217550b49808b3825ea8962c30e",
      "value": "pytorch_model.bin: 100%"
     }
    },
    "e92516778e154ba8a2ab269b0756f8df": {
     "model_module": "@jupyter-widgets/base",
     "model_module_version": "1.2.0",
     "model_name": "LayoutModel",
     "state": {
      "_model_module": "@jupyter-widgets/base",
      "_model_module_version": "1.2.0",
      "_model_name": "LayoutModel",
      "_view_count": null,
      "_view_module": "@jupyter-widgets/base",
      "_view_module_version": "1.2.0",
      "_view_name": "LayoutView",
      "align_content": null,
      "align_items": null,
      "align_self": null,
      "border": null,
      "bottom": null,
      "display": null,
      "flex": null,
      "flex_flow": null,
      "grid_area": null,
      "grid_auto_columns": null,
      "grid_auto_flow": null,
      "grid_auto_rows": null,
      "grid_column": null,
      "grid_gap": null,
      "grid_row": null,
      "grid_template_areas": null,
      "grid_template_columns": null,
      "grid_template_rows": null,
      "height": null,
      "justify_content": null,
      "justify_items": null,
      "left": null,
      "margin": null,
      "max_height": null,
      "max_width": null,
      "min_height": null,
      "min_width": null,
      "object_fit": null,
      "object_position": null,
      "order": null,
      "overflow": null,
      "overflow_x": null,
      "overflow_y": null,
      "padding": null,
      "right": null,
      "top": null,
      "visibility": null,
      "width": null
     }
    },
    "eaba4b9ff077407098714044add90b47": {
     "model_module": "@jupyter-widgets/controls",
     "model_module_version": "1.5.0",
     "model_name": "DescriptionStyleModel",
     "state": {
      "_model_module": "@jupyter-widgets/controls",
      "_model_module_version": "1.5.0",
      "_model_name": "DescriptionStyleModel",
      "_view_count": null,
      "_view_module": "@jupyter-widgets/base",
      "_view_module_version": "1.2.0",
      "_view_name": "StyleView",
      "description_width": ""
     }
    },
    "eaed2217550b49808b3825ea8962c30e": {
     "model_module": "@jupyter-widgets/controls",
     "model_module_version": "1.5.0",
     "model_name": "DescriptionStyleModel",
     "state": {
      "_model_module": "@jupyter-widgets/controls",
      "_model_module_version": "1.5.0",
      "_model_name": "DescriptionStyleModel",
      "_view_count": null,
      "_view_module": "@jupyter-widgets/base",
      "_view_module_version": "1.2.0",
      "_view_name": "StyleView",
      "description_width": ""
     }
    },
    "eee0d3bd8576437092ae53ad48ab40e6": {
     "model_module": "@jupyter-widgets/controls",
     "model_module_version": "1.5.0",
     "model_name": "DescriptionStyleModel",
     "state": {
      "_model_module": "@jupyter-widgets/controls",
      "_model_module_version": "1.5.0",
      "_model_name": "DescriptionStyleModel",
      "_view_count": null,
      "_view_module": "@jupyter-widgets/base",
      "_view_module_version": "1.2.0",
      "_view_name": "StyleView",
      "description_width": ""
     }
    },
    "ef593b7c7bc44bc3976921acc509971d": {
     "model_module": "@jupyter-widgets/base",
     "model_module_version": "1.2.0",
     "model_name": "LayoutModel",
     "state": {
      "_model_module": "@jupyter-widgets/base",
      "_model_module_version": "1.2.0",
      "_model_name": "LayoutModel",
      "_view_count": null,
      "_view_module": "@jupyter-widgets/base",
      "_view_module_version": "1.2.0",
      "_view_name": "LayoutView",
      "align_content": null,
      "align_items": null,
      "align_self": null,
      "border": null,
      "bottom": null,
      "display": null,
      "flex": null,
      "flex_flow": null,
      "grid_area": null,
      "grid_auto_columns": null,
      "grid_auto_flow": null,
      "grid_auto_rows": null,
      "grid_column": null,
      "grid_gap": null,
      "grid_row": null,
      "grid_template_areas": null,
      "grid_template_columns": null,
      "grid_template_rows": null,
      "height": null,
      "justify_content": null,
      "justify_items": null,
      "left": null,
      "margin": null,
      "max_height": null,
      "max_width": null,
      "min_height": null,
      "min_width": null,
      "object_fit": null,
      "object_position": null,
      "order": null,
      "overflow": null,
      "overflow_x": null,
      "overflow_y": null,
      "padding": null,
      "right": null,
      "top": null,
      "visibility": null,
      "width": null
     }
    },
    "f4bba914b06c470baf6f1941fed716ed": {
     "model_module": "@jupyter-widgets/controls",
     "model_module_version": "1.5.0",
     "model_name": "FloatProgressModel",
     "state": {
      "_dom_classes": [],
      "_model_module": "@jupyter-widgets/controls",
      "_model_module_version": "1.5.0",
      "_model_name": "FloatProgressModel",
      "_view_count": null,
      "_view_module": "@jupyter-widgets/controls",
      "_view_module_version": "1.5.0",
      "_view_name": "ProgressView",
      "bar_style": "success",
      "description": "",
      "description_tooltip": null,
      "layout": "IPY_MODEL_71b0735cda0f4c6fa496490f83d8037d",
      "max": 466062,
      "min": 0,
      "orientation": "horizontal",
      "style": "IPY_MODEL_14139c824f42496ca25420d1de6ae0a2",
      "value": 466062
     }
    },
    "fc778e21ca6f4ca3b12a0f6348307ac6": {
     "model_module": "@jupyter-widgets/base",
     "model_module_version": "1.2.0",
     "model_name": "LayoutModel",
     "state": {
      "_model_module": "@jupyter-widgets/base",
      "_model_module_version": "1.2.0",
      "_model_name": "LayoutModel",
      "_view_count": null,
      "_view_module": "@jupyter-widgets/base",
      "_view_module_version": "1.2.0",
      "_view_name": "LayoutView",
      "align_content": null,
      "align_items": null,
      "align_self": null,
      "border": null,
      "bottom": null,
      "display": null,
      "flex": null,
      "flex_flow": null,
      "grid_area": null,
      "grid_auto_columns": null,
      "grid_auto_flow": null,
      "grid_auto_rows": null,
      "grid_column": null,
      "grid_gap": null,
      "grid_row": null,
      "grid_template_areas": null,
      "grid_template_columns": null,
      "grid_template_rows": null,
      "height": null,
      "justify_content": null,
      "justify_items": null,
      "left": null,
      "margin": null,
      "max_height": null,
      "max_width": null,
      "min_height": null,
      "min_width": null,
      "object_fit": null,
      "object_position": null,
      "order": null,
      "overflow": null,
      "overflow_x": null,
      "overflow_y": null,
      "padding": null,
      "right": null,
      "top": null,
      "visibility": null,
      "width": null
     }
    },
    "fcd6eb0b0ef04fb0a16e6fda71f0b448": {
     "model_module": "@jupyter-widgets/controls",
     "model_module_version": "1.5.0",
     "model_name": "ProgressStyleModel",
     "state": {
      "_model_module": "@jupyter-widgets/controls",
      "_model_module_version": "1.5.0",
      "_model_name": "ProgressStyleModel",
      "_view_count": null,
      "_view_module": "@jupyter-widgets/base",
      "_view_module_version": "1.2.0",
      "_view_name": "StyleView",
      "bar_color": null,
      "description_width": ""
     }
    },
    "fdbe500f0cd04ce2baab3f729ca37854": {
     "model_module": "@jupyter-widgets/base",
     "model_module_version": "1.2.0",
     "model_name": "LayoutModel",
     "state": {
      "_model_module": "@jupyter-widgets/base",
      "_model_module_version": "1.2.0",
      "_model_name": "LayoutModel",
      "_view_count": null,
      "_view_module": "@jupyter-widgets/base",
      "_view_module_version": "1.2.0",
      "_view_name": "LayoutView",
      "align_content": null,
      "align_items": null,
      "align_self": null,
      "border": null,
      "bottom": null,
      "display": null,
      "flex": null,
      "flex_flow": null,
      "grid_area": null,
      "grid_auto_columns": null,
      "grid_auto_flow": null,
      "grid_auto_rows": null,
      "grid_column": null,
      "grid_gap": null,
      "grid_row": null,
      "grid_template_areas": null,
      "grid_template_columns": null,
      "grid_template_rows": null,
      "height": null,
      "justify_content": null,
      "justify_items": null,
      "left": null,
      "margin": null,
      "max_height": null,
      "max_width": null,
      "min_height": null,
      "min_width": null,
      "object_fit": null,
      "object_position": null,
      "order": null,
      "overflow": null,
      "overflow_x": null,
      "overflow_y": null,
      "padding": null,
      "right": null,
      "top": null,
      "visibility": null,
      "width": null
     }
    },
    "fdefcf009ff14f7eb142d82ae45d0ba9": {
     "model_module": "@jupyter-widgets/controls",
     "model_module_version": "1.5.0",
     "model_name": "HTMLModel",
     "state": {
      "_dom_classes": [],
      "_model_module": "@jupyter-widgets/controls",
      "_model_module_version": "1.5.0",
      "_model_name": "HTMLModel",
      "_view_count": null,
      "_view_module": "@jupyter-widgets/controls",
      "_view_module_version": "1.5.0",
      "_view_name": "HTMLView",
      "description": "",
      "description_tooltip": null,
      "layout": "IPY_MODEL_aea92ea523524b54b68c0a66108d6130",
      "placeholder": "​",
      "style": "IPY_MODEL_b5f6359925bc465e83083461371d0959",
      "value": " 232k/232k [00:00&lt;00:00, 4.68MB/s]"
     }
    }
   }
  }
 },
 "nbformat": 4,
 "nbformat_minor": 0
}
